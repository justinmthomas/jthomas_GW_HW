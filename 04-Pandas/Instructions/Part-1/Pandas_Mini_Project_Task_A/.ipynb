{
 "cells": [
  {
   "cell_type": "markdown",
   "metadata": {},
   "source": [
    "**BIG BIG HINT! Look in the instructions to guide you on this task.**"
   ]
  },
  {
   "cell_type": "code",
   "execution_count": 2,
   "metadata": {},
   "outputs": [],
   "source": [
    "# Dependencies\n",
    "import pandas as pd"
   ]
  },
  {
   "cell_type": "code",
   "execution_count": 3,
   "metadata": {
    "scrolled": false
   },
   "outputs": [],
   "source": [
    "#load CSV\n",
    "\n",
    "file = \"Resources/2016-FCC-New-coders-survey-data.csv\"\n"
   ]
  },
  {
   "cell_type": "code",
   "execution_count": 5,
   "metadata": {
    "scrolled": true
   },
   "outputs": [
    {
     "name": "stderr",
     "output_type": "stream",
     "text": [
      "C:\\Users\\justin\\Anaconda3\\lib\\site-packages\\IPython\\core\\interactiveshell.py:3049: DtypeWarning: Columns (21,57) have mixed types. Specify dtype option on import or set low_memory=False.\n",
      "  interactivity=interactivity, compiler=compiler, result=result)\n"
     ]
    }
   ],
   "source": [
    "# Read with pandas\n",
    "df = pd.read_csv(file, encoding = 'iso-8859-1', low_memory= 'false' )\n"
   ]
  },
  {
   "cell_type": "code",
   "execution_count": 7,
   "metadata": {
    "scrolled": true
   },
   "outputs": [
    {
     "data": {
      "text/plain": [
       "Index(['Age', 'AttendedBootcamp', 'BootcampFinish', 'BootcampFullJobAfter',\n",
       "       'BootcampLoanYesNo', 'BootcampMonthsAgo', 'BootcampName',\n",
       "       'BootcampPostSalary', 'BootcampRecommend', 'ChildrenNumber',\n",
       "       ...\n",
       "       'ResourceSoloLearn', 'ResourceStackOverflow', 'ResourceTreehouse',\n",
       "       'ResourceUdacity', 'ResourceUdemy', 'ResourceW3Schools',\n",
       "       'ResourceYouTube', 'SchoolDegree', 'SchoolMajor', 'StudentDebtOwe'],\n",
       "      dtype='object', length=113)"
      ]
     },
     "execution_count": 7,
     "metadata": {},
     "output_type": "execute_result"
    }
   ],
   "source": [
    "# Inspect all columns\n",
    "df.head()\n",
    "df.columns"
   ]
  },
  {
   "cell_type": "code",
   "execution_count": 8,
   "metadata": {},
   "outputs": [
    {
     "data": {
      "text/plain": [
       "Index(['Age', 'AttendedBootcamp', 'BootcampFinish', 'BootcampFullJobAfter',\n",
       "       'BootcampLoanYesNo', 'BootcampPostSalary', 'BootcampRecommend',\n",
       "       'ChildrenNumber', 'CityPopulation', 'CodeEventBootcamp', 'CountryLive',\n",
       "       'EmploymentField', 'EmploymentStatus', 'Gender', 'HasChildren',\n",
       "       'HoursLearning', 'Income', 'JobRoleInterest', 'SchoolDegree',\n",
       "       'SchoolMajor'],\n",
       "      dtype='object')"
      ]
     },
     "execution_count": 8,
     "metadata": {},
     "output_type": "execute_result"
    }
   ],
   "source": [
    "# Extract only columns 0, 1, 2, 3, 4, 7, 8, 9, 10, 11, 29, 30, 32, 36, 37, 45, 48, 56, 110, 111\n",
    "column_list = [0, 1, 2, 3, 4, 7, 8, 9, 10, 11, 29, 30, 32, 36, 37, 45, 48, 56, 110, 111]\n",
    "#df_extract = df[column_list]\n",
    "\n",
    "df_extract = df[df.columns[column_list]]\n",
    "df_extract.head()\n",
    "df_extract.columns\n"
   ]
  },
  {
   "cell_type": "code",
   "execution_count": 9,
   "metadata": {},
   "outputs": [],
   "source": [
    "# Change \"0\" to \"No\" and \"1\" to \"Yes\" in response columns\n",
    "df_extract = df_extract.replace({0.0: \"No\", 1.0:\"Yes\"})\n"
   ]
  },
  {
   "cell_type": "code",
   "execution_count": 12,
   "metadata": {},
   "outputs": [],
   "source": [
    "# Calculate total number of respondents in survey\n",
    "total_surveyed = len(df_extract)"
   ]
  },
  {
   "cell_type": "code",
   "execution_count": 18,
   "metadata": {},
   "outputs": [
    {
     "data": {
      "text/plain": [
       "Age                     818\n",
       "AttendedBootcamp        953\n",
       "BootcampFinish          933\n",
       "BootcampFullJobAfter    635\n",
       "BootcampLoanYesNo       934\n",
       "BootcampPostSalary      330\n",
       "BootcampRecommend       937\n",
       "ChildrenNumber          148\n",
       "CityPopulation          823\n",
       "CodeEventBootcamp        27\n",
       "CountryLive             825\n",
       "EmploymentField         476\n",
       "EmploymentStatus        792\n",
       "Gender                  833\n",
       "HasChildren             211\n",
       "HoursLearning           925\n",
       "Income                  430\n",
       "JobRoleInterest         402\n",
       "SchoolDegree            832\n",
       "SchoolMajor             622\n",
       "dtype: int64"
      ]
     },
     "execution_count": 18,
     "metadata": {},
     "output_type": "execute_result"
    }
   ],
   "source": [
    "# Extract rows corresponding only to people who attended a bootcamp\n",
    "attended_bootcamp = df_extract.loc[df_extract[\"AttendedBootcamp\"] == \"Yes\"]\n",
    "attended_bootcamp.count()                                          "
   ]
  },
  {
   "cell_type": "code",
   "execution_count": 30,
   "metadata": {},
   "outputs": [
    {
     "data": {
      "text/plain": [
       "63740.50606060606"
      ]
     },
     "execution_count": 30,
     "metadata": {},
     "output_type": "execute_result"
    }
   ],
   "source": [
    "# Calculate average age of attendees\n",
    "average_age = df_extract['Age'].mean()\n",
    "\n",
    "# Calculate how many people attended a bootcamp\n",
    "amount_attended = df_extract[\"AttendedBootcamp\"].count()\n",
    "# Calculate how many attendees hold degrees\n",
    "holds_degree = df_extract[\"SchoolDegree\"].count()\n",
    "\n",
    "# Count number of attendees who self-identify as male; female; or are of non-binary gender identification\n",
    "total_gender = df_extract[\"Gender\"].count()\n",
    "male = df_extract[\"Gender\"].value_counts()['male']\n",
    "female = df_extract[\"Gender\"].value_counts()['female'] \n",
    "non_gender_specific = total_gender - male - female\n",
    "# Calculate percentage of respondents who attended a bootcamp\n",
    "percent_attended = amount_attended / total_surveyed * 100\n",
    "# Calculate percentage of respondents belonging to each gender\n",
    "male_percent = (male/total_gender) * 100\n",
    "female_percent = (female/total_gender) * 100\n",
    "non_gender_specific_percent = (non_gender_specific/total_gender) * 100\n",
    "\n",
    "# Calculate percentage of attendees with a school degree\n",
    "degree_percentage  = (holds_degree/amount_attended) * 100\n",
    "\n",
    "# Calculate average post-bootcamp salary\n",
    "avg_salary = df_extract[\"BootcampPostSalary\"].mean()\n",
    "avg_salary"
   ]
  },
  {
   "cell_type": "code",
   "execution_count": null,
   "metadata": {},
   "outputs": [],
   "source": [
    "# Create a new table consolodating above calculations\n",
    "bootcamp_breakown = "
   ]
  },
  {
   "cell_type": "code",
   "execution_count": null,
   "metadata": {},
   "outputs": [],
   "source": [
    "# Improve formatting before outputting spreadsheet"
   ]
  },
  {
   "cell_type": "code",
   "execution_count": null,
   "metadata": {},
   "outputs": [],
   "source": [
    "# Export to Excel"
   ]
  }
 ],
 "metadata": {
  "anaconda-cloud": {},
  "kernelspec": {
   "display_name": "Python 3",
   "language": "python",
   "name": "python3"
  },
  "language_info": {
   "codemirror_mode": {
    "name": "ipython",
    "version": 3
   },
   "file_extension": ".py",
   "mimetype": "text/x-python",
   "name": "python",
   "nbconvert_exporter": "python",
   "pygments_lexer": "ipython3",
   "version": "3.7.3"
  }
 },
 "nbformat": 4,
 "nbformat_minor": 2
}
